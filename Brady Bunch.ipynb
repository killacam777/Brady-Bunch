{
 "cells": [
  {
   "cell_type": "code",
   "execution_count": 3,
   "metadata": {},
   "outputs": [
    {
     "name": "stdout",
     "output_type": "stream",
     "text": [
      "the mean 9.857142857142858\n",
      "the median 10.0\n",
      "the mode ModeResult(mode=array([8]), count=array([2]))\n",
      "standard deviation 2.531435020952764\n",
      "standard error 0.9567925036515135\n",
      "the mean 10.0\n",
      "the median 10.0\n",
      "the mode ModeResult(mode=array([8]), count=array([2]))\n",
      "standard deviation 2.32992949004287\n",
      "standard error 0.8806305718527109\n",
      "the mean 9.0\n",
      "the median 10.0\n",
      "the mode ModeResult(mode=array([1]), count=array([1]))\n",
      "standard deviation 3.927922024247863\n",
      "standard error 1.4846149779161806\n"
     ]
    }
   ],
   "source": [
    "import numpy as np\n",
    "from scipy import stats\n",
    "\n",
    "def brady_solutions(ages):\n",
    "    standard= np.std(ages)\n",
    "    error_brady= standard / np.sqrt(7)\n",
    "\n",
    "    print(\"the mean\",np.mean(ages))\n",
    "    print(\"the median\",np.median(ages))\n",
    "    print(\"the mode\" ,stats.mode(ages))\n",
    "    print(\"standard deviation\",np.std(ages))\n",
    "    print(\"standard error\",error_brady)\n",
    "    \n",
    "brady= [14, 12, 11, 10, 8, 6, 8]\n",
    "\n",
    "brady_solutions(brady)\n",
    "\n",
    "brady_2= [14, 12, 11, 10, 8, 7, 8]\n",
    "\n",
    "brady_solutions(brady_2)\n",
    "\n",
    "brady_3= [14, 12, 11, 10, 8, 7, 1]\n",
    "\n",
    "brady_solutions(brady_3)\n",
    "\n",
    "\n",
    "\n",
    "\n",
    "    \n"
   ]
  },
  {
   "cell_type": "markdown",
   "metadata": {},
   "source": [
    "# Next, Cindy has a birthday. Update your estimates- what changed, and what didn't?\n"
   ]
  },
  {
   "cell_type": "code",
   "execution_count": 4,
   "metadata": {},
   "outputs": [
    {
     "name": "stdout",
     "output_type": "stream",
     "text": [
      "the mean 10.0\n",
      "the median 10.0\n",
      "the mode ModeResult(mode=array([8]), count=array([2]))\n",
      "standard deviation 2.32992949004287\n",
      "standard error 0.8806305718527109\n"
     ]
    }
   ],
   "source": [
    "brady_2= [14, 12, 11, 10, 8, 7, 8]\n",
    "\n",
    "brady_solutions(brady_2)"
   ]
  },
  {
   "cell_type": "markdown",
   "metadata": {},
   "source": [
    "Changed- Mean, Standard Deviation, Standard Error\n",
    "Did not change- Mode, Median\n",
    "\n"
   ]
  },
  {
   "cell_type": "markdown",
   "metadata": {},
   "source": [
    "## Nobody likes Cousin Oliver. Maybe the network should have used an even younger actor. Replace Cousin Oliver with 1-year-old Jessica, then recalculate again. Does this change your choice of central tendency or variance estimation methods?"
   ]
  },
  {
   "cell_type": "code",
   "execution_count": 5,
   "metadata": {},
   "outputs": [
    {
     "name": "stdout",
     "output_type": "stream",
     "text": [
      "the mean 9.0\n",
      "the median 10.0\n",
      "the mode ModeResult(mode=array([1]), count=array([1]))\n",
      "standard deviation 3.927922024247863\n",
      "standard error 1.4846149779161806\n"
     ]
    }
   ],
   "source": [
    "brady_3= [14, 12, 11, 10, 8, 7, 1]\n",
    "\n",
    "brady_solutions(brady_3)"
   ]
  },
  {
   "cell_type": "markdown",
   "metadata": {},
   "source": [
    "Yes, Just changing one 8 messed up nearly everything. Our Standard Deviation is different, our mode is different and our Standard error is different. The extra 8 had a huge effect on what we could pull from the Data Set."
   ]
  }
 ],
 "metadata": {
  "kernelspec": {
   "display_name": "Python 3",
   "language": "python",
   "name": "python3"
  },
  "language_info": {
   "codemirror_mode": {
    "name": "ipython",
    "version": 3
   },
   "file_extension": ".py",
   "mimetype": "text/x-python",
   "name": "python",
   "nbconvert_exporter": "python",
   "pygments_lexer": "ipython3",
   "version": "3.6.5"
  }
 },
 "nbformat": 4,
 "nbformat_minor": 2
}
